{
 "cells": [
  {
   "cell_type": "markdown",
   "metadata": {
    "colab_type": "text",
    "id": "Rp8gAjVM4ZLJ"
   },
   "source": [
    "To be run in **Jupyter** to generate `../exercises/*.ipynb` from `./*.ipynb`"
   ]
  },
  {
   "cell_type": "code",
   "execution_count": 4,
   "metadata": {
    "colab": {},
    "colab_type": "code",
    "id": "_MNAPcGX4Wfk"
   },
   "outputs": [],
   "source": [
    "import json, os, re\n",
    "from IPython.core.display import display, HTML"
   ]
  },
  {
   "cell_type": "code",
   "execution_count": 5,
   "metadata": {
    "colab": {},
    "colab_type": "code",
    "id": "41Ab9ind4Wfo"
   },
   "outputs": [],
   "source": [
    "def convert(code):\n",
    "    converted = []\n",
    "    for line in code:\n",
    "        assert 'todo' not in line.lower()\n",
    "        m = re.match('^\\s*(?:#|//|<!-- )--snip', line)\n",
    "        if m:\n",
    "            break\n",
    "        m = re.match(r'^(\\s*)(.*?)\\s+(?:#|//)([^ @].*)$', line)\n",
    "        converted.append((m.group(1) + m.group(3) + '\\n') if m else line)\n",
    "    return converted"
   ]
  },
  {
   "cell_type": "code",
   "execution_count": 6,
   "metadata": {
    "colab": {},
    "colab_type": "code",
    "id": "Hl6t7z574Wfr",
    "outputId": "6e40003f-5007-448c-d4d7-6f2344ef66a0"
   },
   "outputs": [
    {
     "data": {
      "text/html": [
       "<pre>"
      ],
      "text/plain": [
       "<IPython.core.display.HTML object>"
      ]
     },
     "metadata": {},
     "output_type": "display_data"
    },
    {
     "data": {
      "text/html": [
       "<li><a target=\"_blank\" href=\"./0_colab.ipynb\">./0_colab.ipynb</a> (158505 bytes) &#8680; <a target=\"_blank\" href=\"../exercises/0_colab.ipynb\">../exercises/0_colab.ipynb</a> (44058 bytes)</li>"
      ],
      "text/plain": [
       "<IPython.core.display.HTML object>"
      ]
     },
     "metadata": {},
     "output_type": "display_data"
    },
    {
     "data": {
      "text/html": [
       "<li><a target=\"_blank\" href=\"./1_data.ipynb\">./1_data.ipynb</a> (313427 bytes) &#8680; <a target=\"_blank\" href=\"../exercises/1_data.ipynb\">../exercises/1_data.ipynb</a> (48333 bytes)</li>"
      ],
      "text/plain": [
       "<IPython.core.display.HTML object>"
      ]
     },
     "metadata": {},
     "output_type": "display_data"
    },
    {
     "data": {
      "text/html": [
       "<li><a target=\"_blank\" href=\"./2_keras.ipynb\">./2_keras.ipynb</a> (145294 bytes) &#8680; <a target=\"_blank\" href=\"../exercises/2_keras.ipynb\">../exercises/2_keras.ipynb</a> (41355 bytes)</li>"
      ],
      "text/plain": [
       "<IPython.core.display.HTML object>"
      ]
     },
     "metadata": {},
     "output_type": "display_data"
    },
    {
     "data": {
      "text/html": [
       "<li><a target=\"_blank\" href=\"./3_eager.ipynb\">./3_eager.ipynb</a> (5521526 bytes) &#8680; <a target=\"_blank\" href=\"../exercises/3_eager.ipynb\">../exercises/3_eager.ipynb</a> (5393264 bytes)</li>"
      ],
      "text/plain": [
       "<IPython.core.display.HTML object>"
      ]
     },
     "metadata": {},
     "output_type": "display_data"
    },
    {
     "data": {
      "text/html": [
       "<li><a target=\"_blank\" href=\"./4_predict.ipynb\">./4_predict.ipynb</a> (37134 bytes) &#8680; <a target=\"_blank\" href=\"../exercises/4_predict.ipynb\">../exercises/4_predict.ipynb</a> (25363 bytes)</li>"
      ],
      "text/plain": [
       "<IPython.core.display.HTML object>"
      ]
     },
     "metadata": {},
     "output_type": "display_data"
    },
    {
     "data": {
      "text/html": [
       "<li><a target=\"_blank\" href=\"./5_cloud.ipynb\">./5_cloud.ipynb</a> (16185 bytes) &#8680; <a target=\"_blank\" href=\"../exercises/5_cloud.ipynb\">../exercises/5_cloud.ipynb</a> (10331 bytes)</li>"
      ],
      "text/plain": [
       "<IPython.core.display.HTML object>"
      ]
     },
     "metadata": {},
     "output_type": "display_data"
    }
   ],
   "source": [
    "SOURCE = '.'\n",
    "DESTINATION = '../exercises'\n",
    "NOTE_FMT = '### NOTE: This file is auto-generated from \"%s\".\\n\\n'\n",
    "LINK_FMT = ('<li><a target=\"_blank\" href=\"%s\">%s</a> (%d bytes) &#8680; '\n",
    "            '<a target=\"_blank\" href=\"%s\">%s</a> (%d bytes)</li>')\n",
    "if not os.path.exists(DESTINATION):\n",
    "    os.mkdir(DESTINATION)\n",
    "display(HTML('<pre>'))\n",
    "for name in sorted(os.listdir(SOURCE)):\n",
    "    if not name.endswith('.ipynb') or name.startswith('_'):\n",
    "        continue\n",
    "    path = os.path.join(SOURCE, name)\n",
    "    nb = json.load(open(path))\n",
    "    for cell in nb['cells']:\n",
    "        if cell['cell_type'] == 'code':\n",
    "            cell['source'] = convert(cell['source'])\n",
    "        if 'outputs' in cell: cell['outputs'] = []\n",
    "        if 'execution_count' in cell: cell['execution_count'] = None\n",
    "#     nb['cells'][0]['source'].insert(0, NOTE_FMT % os.path.abspath(path))\n",
    "    path2 = os.path.join(DESTINATION, name)\n",
    "    json.dump(nb, open(path2, 'w'))\n",
    "    display(HTML(LINK_FMT % (path, path, os.path.getsize(path),\n",
    "                             path2, path2, os.path.getsize(path2))))"
   ]
  }
 ],
 "metadata": {
  "colab": {
   "collapsed_sections": [],
   "name": "_generate_exercises.ipynb",
   "provenance": [],
   "version": "0.3.2"
  },
  "kernelspec": {
   "display_name": "Python 3",
   "language": "python",
   "name": "python3"
  },
  "language_info": {
   "codemirror_mode": {
    "name": "ipython",
    "version": 3
   },
   "file_extension": ".py",
   "mimetype": "text/x-python",
   "name": "python",
   "nbconvert_exporter": "python",
   "pygments_lexer": "ipython3",
   "version": "3.6.8"
  }
 },
 "nbformat": 4,
 "nbformat_minor": 4
}
