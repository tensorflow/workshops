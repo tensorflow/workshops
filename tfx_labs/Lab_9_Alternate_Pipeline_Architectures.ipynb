{
  "nbformat": 4,
  "nbformat_minor": 0,
  "metadata": {
    "colab": {
      "name": "TFX Lab 9 – Alternate Pipeline Architectures",
      "provenance": [],
      "private_outputs": true,
      "collapsed_sections": [
        "X2QVdzRICBjo"
      ]
    },
    "kernelspec": {
      "name": "python3",
      "display_name": "Python 3"
    },
    "accelerator": "GPU"
  },
  "cells": [
    {
      "cell_type": "markdown",
      "metadata": {
        "id": "X2QVdzRICBjo",
        "colab_type": "text"
      },
      "source": [
        "###### Copyright &copy; 2019 The TensorFlow Authors."
      ]
    },
    {
      "cell_type": "code",
      "metadata": {
        "id": "7JwKPOmN2-15",
        "colab_type": "code",
        "colab": {}
      },
      "source": [
        "#@title Licensed under the Apache License, Version 2.0 (the \"License\");\n",
        "# you may not use this file except in compliance with the License.\n",
        "# You may obtain a copy of the License at\n",
        "#\n",
        "# https://www.apache.org/licenses/LICENSE-2.0\n",
        "#\n",
        "# Unless required by applicable law or agreed to in writing, software\n",
        "# distributed under the License is distributed on an \"AS IS\" BASIS,\n",
        "# WITHOUT WARRANTIES OR CONDITIONS OF ANY KIND, either express or implied.\n",
        "# See the License for the specific language governing permissions and\n",
        "# limitations under the License."
      ],
      "execution_count": 0,
      "outputs": []
    },
    {
      "cell_type": "markdown",
      "metadata": {
        "id": "23R0Z9RojXYW",
        "colab_type": "text"
      },
      "source": [
        "# TFX Alternate Pipeline Architecture\n",
        "\n",
        "This notebook demonstrates how to build and use TFX with a different pipeline architecture.  Specifically, the pipeline in this example will branch following the feature engineering with Transform, so that two different Trainers each train and deploy two different model architectures from the same dataset.  This illustrates one possible approach to doing A/B testing.\n",
        "\n",
        "We will train an image classification model on the [UC Merced Land Use Dataset](http://weegee.vision.ucmerced.edu/datasets/landuse.html) of aerial pictures."
      ]
    },
    {
      "cell_type": "markdown",
      "metadata": {
        "id": "2GivNBNYjb3b",
        "colab_type": "text"
      },
      "source": [
        "## Setup\n",
        "First, we install the necessary packages, download data, import modules and set up paths.\n",
        "\n",
        "### Install TFX and TensorFlow\n",
        "\n",
        "> #### Note\n",
        "> Because of some of the updates to packages you must use the button at the bottom of the output of this cell to restart the runtime.  Following restart, you should rerun this cell."
      ]
    },
    {
      "cell_type": "markdown",
      "metadata": {
        "id": "PNMMAVwGj2Sl",
        "colab_type": "text"
      },
      "source": [
        "### Install TFX and Tensorflow"
      ]
    },
    {
      "cell_type": "code",
      "metadata": {
        "id": "OuuRmFs0pvRr",
        "colab_type": "code",
        "colab": {}
      },
      "source": [
        "!pip install -q -U \\\n",
        "  tensorflow-gpu==2.0.0 \\\n",
        "  tfx==0.15.0rc0 \\\n",
        "  tensorflow-datasets"
      ],
      "execution_count": 0,
      "outputs": []
    },
    {
      "cell_type": "markdown",
      "metadata": {
        "id": "N-ePgV0Lj68Q",
        "colab_type": "text"
      },
      "source": [
        "### Import packages\n",
        "We import necessary packages, including standard TFX component classes."
      ]
    },
    {
      "cell_type": "code",
      "metadata": {
        "id": "YIqpWK9efviJ",
        "colab_type": "code",
        "colab": {}
      },
      "source": [
        "import os\n",
        "import tempfile\n",
        "import urllib\n",
        "\n",
        "import matplotlib.pyplot as plt\n",
        "\n",
        "import tensorflow as tf\n",
        "keras = tf.keras\n",
        "K = keras.backend\n",
        "\n",
        "import tensorflow_data_validation as tfdv\n",
        "import tensorflow_datasets as tfds\n",
        "import tensorflow_model_analysis as tfma\n",
        "from tensorflow_model_analysis.eval_saved_model.export import build_parsing_eval_input_receiver_fn\n",
        "\n",
        "import tfx\n",
        "from tfx.components.evaluator.component import Evaluator\n",
        "from tfx.components.example_gen.import_example_gen.component import ImportExampleGen\n",
        "from tfx.components.example_validator.component import ExampleValidator\n",
        "from tfx.components.model_validator.component import ModelValidator\n",
        "from tfx.components.pusher.component import Pusher\n",
        "from tfx.components.schema_gen.component import SchemaGen\n",
        "from tfx.components.statistics_gen.component import StatisticsGen\n",
        "from tfx.components.trainer.component import Trainer\n",
        "from tfx.components.transform.component import Transform\n",
        "from tfx.orchestration.experimental.interactive.interactive_context import InteractiveContext\n",
        "\n",
        "from tfx.orchestration import metadata\n",
        "from tfx.orchestration import pipeline\n",
        "from tfx.orchestration.beam.beam_dag_runner import BeamDagRunner\n",
        "from tfx.utils.dsl_utils import external_input\n",
        "\n",
        "from tfx.proto import evaluator_pb2\n",
        "from tfx.proto import example_gen_pb2\n",
        "from tfx.proto import pusher_pb2\n",
        "from tfx.proto import trainer_pb2\n",
        "\n",
        "from tensorflow_metadata.proto.v0 import schema_pb2"
      ],
      "execution_count": 0,
      "outputs": []
    },
    {
      "cell_type": "code",
      "metadata": {
        "id": "XZY7Pnoxmoe8",
        "colab_type": "code",
        "colab": {}
      },
      "source": [
        "tf.__version__"
      ],
      "execution_count": 0,
      "outputs": []
    },
    {
      "cell_type": "code",
      "metadata": {
        "id": "Va6k-mxemjtV",
        "colab_type": "code",
        "colab": {}
      },
      "source": [
        "tfx.__version__"
      ],
      "execution_count": 0,
      "outputs": []
    },
    {
      "cell_type": "markdown",
      "metadata": {
        "id": "n2cMMAbSkGfX",
        "colab_type": "text"
      },
      "source": [
        "### Download example data\n",
        "We download the sample dataset for use in our TFX pipeline. We use TFDS to load the *uc_merced* dataset, for aerial image classification."
      ]
    },
    {
      "cell_type": "code",
      "metadata": {
        "id": "3lbK9GbjavTr",
        "colab_type": "code",
        "colab": {}
      },
      "source": [
        "train_set, ds_info = tfds.load(name=\"uc_merced\",\n",
        "                               split=\"train\",\n",
        "                               as_supervised=True,\n",
        "                               with_info=True)"
      ],
      "execution_count": 0,
      "outputs": []
    },
    {
      "cell_type": "code",
      "metadata": {
        "id": "7NtlqQDscWPh",
        "colab_type": "code",
        "colab": {}
      },
      "source": [
        "ds_info"
      ],
      "execution_count": 0,
      "outputs": []
    },
    {
      "cell_type": "code",
      "metadata": {
        "id": "NIbU3lzGc71G",
        "colab_type": "code",
        "colab": {}
      },
      "source": [
        "n_classes = ds_info.features['label'].num_classes\n",
        "n_classes"
      ],
      "execution_count": 0,
      "outputs": []
    },
    {
      "cell_type": "code",
      "metadata": {
        "id": "cX4tKCUQdT-h",
        "colab_type": "code",
        "colab": {}
      },
      "source": [
        "class_names = ds_info.features['label'].names\n",
        "class_names"
      ],
      "execution_count": 0,
      "outputs": []
    },
    {
      "cell_type": "code",
      "metadata": {
        "id": "hfIiYkxSbsZh",
        "colab_type": "code",
        "colab": {}
      },
      "source": [
        "num_rows, num_cols = 10, 5\n",
        "plt.figure(figsize=(4 * num_cols, 4 * num_rows))\n",
        "for index, (image, label) in enumerate(train_set.take(num_rows * num_cols)):\n",
        "  plt.subplot(num_rows, num_cols, index + 1)\n",
        "  plt.imshow(image)\n",
        "  plt.title(class_names[label])\n",
        "  plt.axis('off')\n",
        "plt.show()"
      ],
      "execution_count": 0,
      "outputs": []
    },
    {
      "cell_type": "markdown",
      "metadata": {
        "id": "8mE3wtC15qZd",
        "colab_type": "text"
      },
      "source": [
        "Note that a few images are slightly smaller than 256x256:"
      ]
    },
    {
      "cell_type": "code",
      "metadata": {
        "id": "q8zNfnxa5w_Q",
        "colab_type": "code",
        "colab": {}
      },
      "source": [
        "for img, label in train_set:\n",
        "    if img.shape!=(256, 256, 3):\n",
        "        print(img.shape)"
      ],
      "execution_count": 0,
      "outputs": []
    },
    {
      "cell_type": "markdown",
      "metadata": {
        "id": "MWo6yMNAEOdT",
        "colab_type": "text"
      },
      "source": [
        "## Running the pipeline interactively"
      ]
    },
    {
      "cell_type": "code",
      "metadata": {
        "id": "m7ptBxyFKF01",
        "colab_type": "code",
        "colab": {}
      },
      "source": [
        "context = InteractiveContext()"
      ],
      "execution_count": 0,
      "outputs": []
    },
    {
      "cell_type": "code",
      "metadata": {
        "id": "mhpA6usY092w",
        "colab_type": "code",
        "colab": {}
      },
      "source": [
        "HOME = os.path.expanduser('~')\n",
        "examples_path = os.path.join(HOME, \"tensorflow_datasets\", \"uc_merced\", \"0.0.1\")\n",
        "dataset = tf.data.TFRecordDataset(os.path.join(examples_path, \"uc_merced-train.tfrecord-00000-of-00001\"))\n",
        "decoder = tfdv.TFExampleDecoder()\n",
        "for tfrecord in dataset.take(1):\n",
        "  example = decoder.decode(tfrecord.numpy())\n",
        "  img = tf.io.decode_png(example['image'][0])"
      ],
      "execution_count": 0,
      "outputs": []
    },
    {
      "cell_type": "code",
      "metadata": {
        "id": "5LOiqEVNMU22",
        "colab_type": "code",
        "colab": {}
      },
      "source": [
        "example"
      ],
      "execution_count": 0,
      "outputs": []
    },
    {
      "cell_type": "code",
      "metadata": {
        "id": "7S2vbU8zMEXH",
        "colab_type": "code",
        "colab": {}
      },
      "source": [
        "plt.imshow(img)\n",
        "plt.axis('off')\n",
        "plt.show()"
      ],
      "execution_count": 0,
      "outputs": []
    },
    {
      "cell_type": "code",
      "metadata": {
        "id": "_CT0ZiEqN50o",
        "colab_type": "code",
        "colab": {}
      },
      "source": [
        "img.shape"
      ],
      "execution_count": 0,
      "outputs": []
    },
    {
      "cell_type": "code",
      "metadata": {
        "id": "GyEUbh0e29kd",
        "colab_type": "code",
        "colab": {}
      },
      "source": [
        "input_data = external_input(examples_path)\n",
        "\n",
        "input_config = example_gen_pb2.Input(splits=[\n",
        "    example_gen_pb2.Input.Split(name='train', pattern='uc_merced-train*')])\n",
        "#Or equivalently:\n",
        "#input_config = tfx.components.example_gen.utils.make_default_input_config(\n",
        "#    split_pattern='uc_merced-train*')\n",
        "\n",
        "example_gen = ImportExampleGen(input=input_data, input_config=input_config)\n",
        "\n",
        "context.run(example_gen)"
      ],
      "execution_count": 0,
      "outputs": []
    },
    {
      "cell_type": "code",
      "metadata": {
        "id": "dqIsT6tMC1Dg",
        "colab_type": "code",
        "colab": {}
      },
      "source": [
        "# Computes statistics over data for visualization and example validation.\n",
        "statistics_gen = StatisticsGen(\n",
        "    examples=example_gen.outputs['examples'])\n",
        "context.run(statistics_gen)"
      ],
      "execution_count": 0,
      "outputs": []
    },
    {
      "cell_type": "code",
      "metadata": {
        "id": "-7sPPh4ZDSie",
        "colab_type": "code",
        "colab": {}
      },
      "source": [
        "# Generates schema based on statistics files.\n",
        "infer_schema = SchemaGen(statistics=statistics_gen.outputs['statistics'])\n",
        "context.run(infer_schema)"
      ],
      "execution_count": 0,
      "outputs": []
    },
    {
      "cell_type": "code",
      "metadata": {
        "id": "XGdkE2VjLj1u",
        "colab_type": "code",
        "colab": {}
      },
      "source": [
        "train_uri = infer_schema.outputs['schema'].get()[0].uri\n",
        "schema_filename = os.path.join(train_uri, \"schema.pbtxt\")\n",
        "schema = tfx.utils.io_utils.parse_pbtxt_file(file_name=schema_filename,\n",
        "                                             message=schema_pb2.Schema())"
      ],
      "execution_count": 0,
      "outputs": []
    },
    {
      "cell_type": "code",
      "metadata": {
        "id": "G9ONFGWSLwef",
        "colab_type": "code",
        "colab": {}
      },
      "source": [
        "tfdv.display_schema(schema)"
      ],
      "execution_count": 0,
      "outputs": []
    },
    {
      "cell_type": "code",
      "metadata": {
        "id": "nvRd3y40Env4",
        "colab_type": "code",
        "colab": {}
      },
      "source": [
        "# Performs anomaly detection based on statistics and data schema.\n",
        "validate_stats = ExampleValidator(\n",
        "    statistics=statistics_gen.outputs['statistics'],\n",
        "    schema=infer_schema.outputs['schema'])\n",
        "context.run(validate_stats)"
      ],
      "execution_count": 0,
      "outputs": []
    },
    {
      "cell_type": "code",
      "metadata": {
        "id": "ad5JLpKbf6sN",
        "colab_type": "code",
        "colab": {}
      },
      "source": [
        "# Set up paths.\n",
        "_transform_module_file = 'uc_merced_tranform.py'"
      ],
      "execution_count": 0,
      "outputs": []
    },
    {
      "cell_type": "code",
      "metadata": {
        "id": "Hoy57eb_SVQc",
        "colab_type": "code",
        "colab": {}
      },
      "source": [
        "%%writefile {_transform_module_file}\n",
        "\n",
        "import tensorflow_transform as tft\n",
        "import tensorflow as tf\n",
        "\n",
        "LABEL_KEY = 'label'\n",
        "\n",
        "def transformed_name(name):\n",
        "  return name + '_xf'\n",
        "\n",
        "def preprocessing_fn(inputs):\n",
        "  \"\"\"tf.transform's callback function for preprocessing inputs.\n",
        "\n",
        "  Args:\n",
        "    inputs: map from feature keys to raw not-yet-transformed features.\n",
        "\n",
        "  Returns:\n",
        "    Map from string feature key to transformed feature operations.\n",
        "  \"\"\"\n",
        "  outputs = {}\n",
        "  for feature, value in inputs.items():\n",
        "    outputs[transformed_name(feature)] = _fill_in_missing(value)\n",
        "  return outputs\n",
        "\n",
        "def _fill_in_missing(x):\n",
        "  \"\"\"Replace missing values in a SparseTensor.\n",
        "\n",
        "  Fills in missing values of `x` with '' or 0, and converts to a dense tensor.\n",
        "\n",
        "  Args:\n",
        "    x: A `SparseTensor` of rank 2.  Its dense shape should have size at most 1\n",
        "      in the second dimension.\n",
        "\n",
        "  Returns:\n",
        "    A rank 1 tensor where missing values of `x` have been filled in.\n",
        "  \"\"\"\n",
        "  default_value = '' if x.dtype == tf.string else 0\n",
        "  return tf.squeeze(\n",
        "      tf.sparse.to_dense(\n",
        "          tf.SparseTensor(x.indices, x.values, [x.dense_shape[0], 1]),\n",
        "          default_value),\n",
        "      axis=1)"
      ],
      "execution_count": 0,
      "outputs": []
    },
    {
      "cell_type": "code",
      "metadata": {
        "id": "HEM3u1HvXm3s",
        "colab_type": "code",
        "colab": {}
      },
      "source": [
        "# Performs transformations and feature engineering in training and serving.\n",
        "transform = Transform(\n",
        "    examples=example_gen.outputs['examples'],\n",
        "    schema=infer_schema.outputs['schema'],\n",
        "    module_file=_transform_module_file)\n",
        "context.run(transform)"
      ],
      "execution_count": 0,
      "outputs": []
    },
    {
      "cell_type": "code",
      "metadata": {
        "id": "4WpsuWAsSiUk",
        "colab_type": "code",
        "colab": {}
      },
      "source": [
        "_trainer_module = 'uc_merced_trainer'\n",
        "_trainer_module_file = _trainer_module + '.py'\n",
        "_serving_model_dir = os.path.join(tempfile.mkdtemp(),\n",
        "                                  'serving_model/uc_merced_simple')"
      ],
      "execution_count": 0,
      "outputs": []
    },
    {
      "cell_type": "code",
      "metadata": {
        "id": "CaFFTBBeB4wf",
        "colab_type": "code",
        "colab": {}
      },
      "source": [
        "%%writefile {_trainer_module_file}\n",
        "\n",
        "import tensorflow as tf\n",
        "keras = tf.keras\n",
        "import tensorflow_model_analysis as tfma\n",
        "import tensorflow_transform as tft\n",
        "from tensorflow_transform.tf_metadata import schema_utils\n",
        "\n",
        "LABEL_KEY = 'label'\n",
        "DROP_FEATURES = [\"filename\"]\n",
        "NUM_CLASSES = 21\n",
        "\n",
        "def transformed_name(name):\n",
        "  return name + '_xf'\n",
        "\n",
        "\n",
        "# Tf.Transform considers these features as \"raw\"\n",
        "def _get_raw_feature_spec(schema):\n",
        "  return schema_utils.schema_as_feature_spec(schema).feature_spec\n",
        "\n",
        "\n",
        "def _gzip_reader_fn(filenames):\n",
        "  \"\"\"Small utility returning a record reader that can read gzip'ed files.\"\"\"\n",
        "  return tf.data.TFRecordDataset(\n",
        "      filenames,\n",
        "      compression_type='GZIP')\n",
        "\n",
        "\n",
        "@tf.function\n",
        "def decode_and_resize(image):\n",
        "    return tf.image.resize(tf.io.decode_png(image), (256, 256))\n",
        "\n",
        "\n",
        "@tf.function\n",
        "def parse_png_images(png_images):\n",
        "  with tf.device(\"/cpu:0\"):\n",
        "    flattened = tf.reshape(png_images, [-1])\n",
        "    decoded = tf.map_fn(decode_and_resize, flattened, dtype=tf.float32)\n",
        "    reshaped = tf.reshape(decoded, [-1, 256, 256, 3])\n",
        "    return reshaped / 255.\n",
        "\n",
        "\n",
        "def _build_estimator(config, num_filters=None):\n",
        "  \"\"\"Build an estimator for classifying uc_merced images\n",
        "\n",
        "  Args:\n",
        "    config: tf.estimator.RunConfig defining the runtime environment for the\n",
        "      estimator (including model_dir).\n",
        "    num_filters: [int], number of filters per Conv2D layer\n",
        "\n",
        "  Returns:\n",
        "    The estimator that will be used for training and eval.\n",
        "  \"\"\"\n",
        "  model = keras.models.Sequential()\n",
        "  model.add(keras.layers.InputLayer(input_shape=[1], dtype=\"string\", name=\"image_xf\"))\n",
        "  model.add(keras.layers.Lambda(parse_png_images))\n",
        "  for filters in num_filters:\n",
        "      model.add(keras.layers.Conv2D(filters=filters, kernel_size=3, activation=\"relu\"))\n",
        "      model.add(keras.layers.MaxPool2D())\n",
        "  model.add(keras.layers.Flatten())\n",
        "  model.add(keras.layers.Dense(NUM_CLASSES, activation=\"softmax\"))\n",
        "  model.compile(loss=\"sparse_categorical_crossentropy\",\n",
        "                optimizer=\"adam\", metrics=[\"accuracy\"])\n",
        "  return tf.keras.estimator.model_to_estimator(\n",
        "      keras_model=model,\n",
        "      config=config,\n",
        "      custom_objects={\"parse_png_images\": parse_png_images})\n",
        "\n",
        "\n",
        "def _example_serving_receiver_fn(tf_transform_output, schema):\n",
        "  \"\"\"Build the serving in inputs.\n",
        "\n",
        "  Args:\n",
        "    tf_transform_output: A TFTransformOutput.\n",
        "    schema: the schema of the input data.\n",
        "\n",
        "  Returns:\n",
        "    Tensorflow graph which parses examples, applying tf-transform to them.\n",
        "  \"\"\"\n",
        "  raw_feature_spec = _get_raw_feature_spec(schema)\n",
        "  raw_feature_spec.pop(LABEL_KEY)\n",
        "\n",
        "  raw_input_fn = tf.estimator.export.build_parsing_serving_input_receiver_fn(\n",
        "      raw_feature_spec, default_batch_size=None)\n",
        "  serving_input_receiver = raw_input_fn()\n",
        "\n",
        "  transformed_features = tf_transform_output.transform_raw_features(\n",
        "      serving_input_receiver.features)\n",
        "  for feature in DROP_FEATURES + [LABEL_KEY]:\n",
        "    transformed_features.pop(transformed_name(feature))\n",
        "\n",
        "  return tf.estimator.export.ServingInputReceiver(\n",
        "      transformed_features, serving_input_receiver.receiver_tensors)\n",
        "\n",
        "\n",
        "def _eval_input_receiver_fn(tf_transform_output, schema):\n",
        "  \"\"\"Build everything needed for the tf-model-analysis to run the model.\n",
        "\n",
        "  Args:\n",
        "    tf_transform_output: A TFTransformOutput.\n",
        "    schema: the schema of the input data.\n",
        "\n",
        "  Returns:\n",
        "    EvalInputReceiver function, which contains:\n",
        "      - Tensorflow graph which parses raw untransformed features, applies the\n",
        "        tf-transform preprocessing operators.\n",
        "      - Set of raw, untransformed features.\n",
        "      - Label against which predictions will be compared.\n",
        "  \"\"\"\n",
        "  # Notice that the inputs are raw features, not transformed features here.\n",
        "  raw_feature_spec = _get_raw_feature_spec(schema)\n",
        "\n",
        "  \n",
        "  serialized_tf_example = tf.compat.v1.placeholder(\n",
        "      dtype=tf.string, shape=[None], name='input_example_tensor')\n",
        "\n",
        "  # Add a parse_example operator to the tensorflow graph, which will parse\n",
        "  # raw, untransformed, tf examples.\n",
        "  features = tf.io.parse_example(serialized_tf_example, raw_feature_spec)\n",
        "\n",
        "  # Now that we have our raw examples, process them through the tf-transform\n",
        "  # function computed during the preprocessing step.\n",
        "  transformed_features = tf_transform_output.transform_raw_features(\n",
        "      features)\n",
        "\n",
        "  # The key name MUST be 'examples'.\n",
        "  receiver_tensors = {'examples': serialized_tf_example}\n",
        "\n",
        "  # NOTE: Model is driven by transformed features (since training works on the\n",
        "  # materialized output of TFT, but slicing will happen on raw features).\n",
        "  features.update(transformed_features)\n",
        "  for feature in DROP_FEATURES + [LABEL_KEY]:\n",
        "    if feature in features:\n",
        "        features.pop(feature)\n",
        "    if transformed_name(feature) in features:\n",
        "        features.pop(transformed_name(feature))\n",
        "  features.pop('image')\n",
        "  return tfma.export.EvalInputReceiver(\n",
        "      features=features,\n",
        "      receiver_tensors=receiver_tensors,\n",
        "      labels=transformed_features[transformed_name(LABEL_KEY)])\n",
        "\n",
        "\n",
        "def _input_fn(filenames, tf_transform_output, batch_size=200):\n",
        "  \"\"\"Generates features and labels for training or evaluation.\n",
        "\n",
        "  Args:\n",
        "    filenames: [str] list of CSV files to read data from.\n",
        "    tf_transform_output: A TFTransformOutput.\n",
        "    batch_size: int First dimension size of the Tensors returned by input_fn\n",
        "\n",
        "  Returns:\n",
        "    A (features, indices) tuple where features is a dictionary of\n",
        "      Tensors, and indices is a single Tensor of label indices.\n",
        "  \"\"\"\n",
        "  transformed_feature_spec = (\n",
        "      tf_transform_output.transformed_feature_spec().copy())\n",
        "  dataset = tf.data.experimental.make_batched_features_dataset(\n",
        "      filenames, batch_size, transformed_feature_spec, reader=_gzip_reader_fn)\n",
        "\n",
        "  transformed_features = dataset.make_one_shot_iterator().get_next()\n",
        "\n",
        "  for feature in DROP_FEATURES:\n",
        "    transformed_features.pop(transformed_name(feature))\n",
        "\n",
        "  return transformed_features, transformed_features.pop(\n",
        "      transformed_name(LABEL_KEY))\n",
        "\n",
        "\n",
        "# TFX will call this function\n",
        "def trainer_fn(hparams, schema):\n",
        "  \"\"\"Build the estimator using the high level API.\n",
        "  Args:\n",
        "    hparams: Holds hyperparameters used to train the model as name/value pairs.\n",
        "    schema: Holds the schema of the training examples.\n",
        "  Returns:\n",
        "    A dict of the following:\n",
        "      - estimator: The estimator that will be used for training and eval.\n",
        "      - train_spec: Spec for training.\n",
        "      - eval_spec: Spec for eval.\n",
        "      - eval_input_receiver_fn: Input function for eval.\n",
        "  \"\"\"\n",
        "  train_batch_size = 40\n",
        "  eval_batch_size = 40\n",
        "\n",
        "  tf_transform_output = tft.TFTransformOutput(hparams.transform_output)\n",
        "\n",
        "  train_input_fn = lambda: _input_fn(\n",
        "      hparams.train_files,\n",
        "      tf_transform_output,\n",
        "      batch_size=train_batch_size)\n",
        "\n",
        "  eval_input_fn = lambda: _input_fn(\n",
        "      hparams.eval_files,\n",
        "      tf_transform_output,\n",
        "      batch_size=eval_batch_size)\n",
        "\n",
        "  train_spec = tf.estimator.TrainSpec(\n",
        "      train_input_fn,\n",
        "      max_steps=hparams.train_steps)\n",
        "\n",
        "  serving_receiver_fn = lambda: _example_serving_receiver_fn(\n",
        "      tf_transform_output, schema)\n",
        "\n",
        "  exporter = tf.estimator.FinalExporter('uc-merced', serving_receiver_fn)\n",
        "  eval_spec = tf.estimator.EvalSpec(\n",
        "      eval_input_fn,\n",
        "      steps=hparams.eval_steps,\n",
        "      exporters=[exporter],\n",
        "      name='uc-merced-eval')\n",
        "\n",
        "  run_config = tf.estimator.RunConfig(\n",
        "      save_checkpoints_steps=999, keep_checkpoint_max=1)\n",
        "\n",
        "  run_config = run_config.replace(model_dir=hparams.serving_model_dir)\n",
        "\n",
        "  num_filters = [hparams.first_cnn_filters]\n",
        "  for layer_index in range(1, hparams.num_cnn_layers):\n",
        "    num_filters.append(num_filters[-1] * 2)\n",
        "\n",
        "  estimator = _build_estimator(\n",
        "      config=run_config,\n",
        "      num_filters=num_filters)\n",
        "\n",
        "  # Create an input receiver for TFMA processing\n",
        "  receiver_fn = lambda: _eval_input_receiver_fn(\n",
        "      tf_transform_output, schema)\n",
        "\n",
        "  return {\n",
        "      'estimator': estimator,\n",
        "      'train_spec': train_spec,\n",
        "      'eval_spec': eval_spec,\n",
        "      'eval_input_receiver_fn': receiver_fn\n",
        "  }\n",
        "\n",
        "def trainer_fn1(hparams, schema):\n",
        "  hparams.first_cnn_filters = 32\n",
        "  hparams.num_cnn_layers = 4\n",
        "  return trainer_fn(hparams, schema)\n",
        "\n",
        "def trainer_fn2(hparams, schema):\n",
        "  hparams.first_cnn_filters = 16\n",
        "  hparams.num_cnn_layers = 5\n",
        "  return trainer_fn(hparams, schema)"
      ],
      "execution_count": 0,
      "outputs": []
    },
    {
      "cell_type": "code",
      "metadata": {
        "id": "Lzvb_f_sXfSq",
        "colab_type": "code",
        "colab": {}
      },
      "source": [
        "# Uses user-provided Python function that implements a model using TensorFlow's\n",
        "# Estimators API.\n",
        "trainer = Trainer(\n",
        "    trainer_fn=\"{}.trainer_fn1\".format(_trainer_module),\n",
        "    transformed_examples=transform.outputs['transformed_examples'],\n",
        "    schema=infer_schema.outputs['schema'],\n",
        "    transform_graph=transform.outputs['transform_graph'],\n",
        "    train_args=trainer_pb2.TrainArgs(num_steps=200),\n",
        "    eval_args=trainer_pb2.EvalArgs(num_steps=100))\n",
        "context.run(trainer)"
      ],
      "execution_count": 0,
      "outputs": []
    },
    {
      "cell_type": "code",
      "metadata": {
        "id": "zcAop1M4cTbm",
        "colab_type": "code",
        "colab": {}
      },
      "source": [
        "# Uses TFMA to compute a evaluation statistics over features of a model.\n",
        "model_analyzer = Evaluator(\n",
        "    examples=example_gen.outputs['examples'],\n",
        "    model=trainer.outputs['model'],\n",
        "    feature_slicing_spec=evaluator_pb2.FeatureSlicingSpec(specs=[\n",
        "        evaluator_pb2.SingleSlicingSpec(\n",
        "            column_for_slicing=['label_xf'])\n",
        "    ]))\n",
        "context.run(model_analyzer)"
      ],
      "execution_count": 0,
      "outputs": []
    },
    {
      "cell_type": "code",
      "metadata": {
        "id": "3LdLU9OUc4-O",
        "colab_type": "code",
        "colab": {}
      },
      "source": [
        "evaluation_uri = model_analyzer.outputs['output'].get()[0].uri\n",
        "eval_result = tfma.load_eval_result(evaluation_uri)\n",
        "eval_result"
      ],
      "execution_count": 0,
      "outputs": []
    },
    {
      "cell_type": "code",
      "metadata": {
        "id": "TLVKECPicbYP",
        "colab_type": "code",
        "colab": {}
      },
      "source": [
        "# Performs quality validation of a candidate model (compared to a baseline).\n",
        "model_validator = ModelValidator(\n",
        "    examples=example_gen.outputs['examples'], model=trainer.outputs['model'])\n",
        "context.run(model_validator)"
      ],
      "execution_count": 0,
      "outputs": []
    },
    {
      "cell_type": "code",
      "metadata": {
        "id": "Y9uvF1k1eyQ3",
        "colab_type": "code",
        "colab": {}
      },
      "source": [
        "blessing_uri = model_validator.outputs['blessing'].get()[0].uri\n",
        "!ls -l {blessing_uri}"
      ],
      "execution_count": 0,
      "outputs": []
    },
    {
      "cell_type": "code",
      "metadata": {
        "id": "ftNZByqDe-1H",
        "colab_type": "code",
        "colab": {}
      },
      "source": [
        "# Setup serving path\n",
        "_serving_model_dir = os.path.join(tempfile.mkdtemp(),\n",
        "                                  'serving_model/uc_merced_simple')"
      ],
      "execution_count": 0,
      "outputs": []
    },
    {
      "cell_type": "code",
      "metadata": {
        "id": "-gJ1j6c4eiur",
        "colab_type": "code",
        "colab": {}
      },
      "source": [
        "# Checks whether the model passed the validation steps and pushes the model\n",
        "# to a file destination if check passed.\n",
        "pusher = Pusher(\n",
        "    model=trainer.outputs['model'],\n",
        "    model_blessing=model_validator.outputs['blessing'],\n",
        "    push_destination=pusher_pb2.PushDestination(\n",
        "        filesystem=pusher_pb2.PushDestination.Filesystem(\n",
        "            base_directory=_serving_model_dir)))\n",
        "context.run(pusher)"
      ],
      "execution_count": 0,
      "outputs": []
    },
    {
      "cell_type": "markdown",
      "metadata": {
        "id": "qAika7-6gLvI",
        "colab_type": "text"
      },
      "source": [
        "## Create the pipeline using Beam orchestration"
      ]
    },
    {
      "cell_type": "code",
      "metadata": {
        "id": "4Rm71RMpNUqh",
        "colab_type": "code",
        "colab": {}
      },
      "source": [
        "_pipeline_name = 'uc_merced_beam'\n",
        "\n",
        "_pipeline_root = tempfile.mkdtemp(prefix='tfx-pipelines')\n",
        "_pipeline_root = os.path.join(_pipeline_root, 'pipelines', _pipeline_name)\n",
        "\n",
        "# Sqlite ML-metadata db path.\n",
        "_metadata_root = tempfile.mkdtemp(prefix='tfx-metadata')\n",
        "_metadata_path = os.path.join(_metadata_root, 'metadata.db')"
      ],
      "execution_count": 0,
      "outputs": []
    },
    {
      "cell_type": "code",
      "metadata": {
        "id": "gNvMj9AWsmSt",
        "colab_type": "code",
        "colab": {}
      },
      "source": [
        "def _create_pipeline(pipeline_name, pipeline_root, data_root,\n",
        "                     transform_module_file, trainer_module_file,\n",
        "                     serving_model_dir, metadata_path):\n",
        "  \"\"\"Implements the UC Merced classification pipeline with TFX.\"\"\"\n",
        "  input_data = external_input(data_root)\n",
        "\n",
        "  input_config = example_gen_pb2.Input(splits=[\n",
        "      example_gen_pb2.Input.Split(name='train', pattern='uc_merced-train*')])\n",
        "  #Or equivalently:\n",
        "  #input_config = tfx.components.example_gen.utils.make_default_input_config(\n",
        "  #    split_pattern='uc_merced-train*')\n",
        "\n",
        "  # Brings data into the pipeline or otherwise joins/converts training data.\n",
        "  example_gen = ImportExampleGen(input=input_data, input_config=input_config)\n",
        "\n",
        "  # Computes statistics over data for visualization and example validation.\n",
        "  statistics_gen = StatisticsGen(examples=example_gen.outputs['examples'])\n",
        "\n",
        "  # Generates schema based on statistics files.\n",
        "  infer_schema = SchemaGen(\n",
        "      statistics=statistics_gen.outputs['statistics'])\n",
        "\n",
        "  # Performs anomaly detection based on statistics and data schema.\n",
        "  validate_stats = ExampleValidator(\n",
        "      statistics=statistics_gen.outputs['statistics'],\n",
        "      schema=infer_schema.outputs['schema'])\n",
        "\n",
        "  # Performs transformations and feature engineering in training and serving.\n",
        "  transform = Transform(\n",
        "      examples=example_gen.outputs['examples'],\n",
        "      schema=infer_schema.outputs['schema'],\n",
        "      module_file=transform_module_file)\n",
        "\n",
        "  components = [example_gen, statistics_gen, infer_schema,\n",
        "                validate_stats, transform]\n",
        "\n",
        "  for index in (1, 2):\n",
        "    # Uses user-provided Python function that implements a model using\n",
        "    # TensorFlow's Estimators API.\n",
        "    trainer = Trainer(\n",
        "        trainer_fn='{}.trainer_fn{}'.format(_trainer_module, index),\n",
        "        transformed_examples=transform.outputs['transformed_examples'],\n",
        "        schema=infer_schema.outputs['schema'],\n",
        "        transform_graph=transform.outputs['transform_graph'],\n",
        "        train_args=trainer_pb2.TrainArgs(num_steps=200),\n",
        "        eval_args=trainer_pb2.EvalArgs(num_steps=100),\n",
        "        instance_name='Trainer{}'.format(index))\n",
        "\n",
        "    # Uses TFMA to compute a evaluation statistics over features of a model.\n",
        "    model_analyzer = Evaluator(\n",
        "        examples=example_gen.outputs['examples'],\n",
        "        model=trainer.outputs['model'],\n",
        "        feature_slicing_spec=evaluator_pb2.FeatureSlicingSpec(specs=[\n",
        "            evaluator_pb2.SingleSlicingSpec(\n",
        "                column_for_slicing=['label_xf'])\n",
        "        ]),\n",
        "        instance_name=\"Evaluator{}\".format(index))\n",
        "\n",
        "    # Performs quality validation of a candidate model (compared to a baseline).\n",
        "    model_validator = ModelValidator(\n",
        "        examples=example_gen.outputs['examples'], model=trainer.outputs['model'],\n",
        "        instance_name=\"ModelValidator{}\".format(index))\n",
        "\n",
        "    # Checks whether the model passed the validation steps and pushes the model\n",
        "    # to a file destination if check passed.\n",
        "    pusher = Pusher(\n",
        "        model=trainer.outputs['model'],\n",
        "        model_blessing=model_validator.outputs['blessing'],\n",
        "        push_destination=pusher_pb2.PushDestination(\n",
        "            filesystem=pusher_pb2.PushDestination.Filesystem(\n",
        "                base_directory=serving_model_dir)),\n",
        "        instance_name='Pusher{}'.format(index))\n",
        "\n",
        "    components += [trainer, model_analyzer, model_validator, pusher]\n",
        "\n",
        "  return pipeline.Pipeline(\n",
        "      pipeline_name=pipeline_name,\n",
        "      pipeline_root=pipeline_root,\n",
        "      components=components,\n",
        "      enable_cache=True,\n",
        "      metadata_connection_config=metadata.sqlite_metadata_connection_config(\n",
        "          metadata_path),\n",
        "      additional_pipeline_args={},\n",
        "  )"
      ],
      "execution_count": 0,
      "outputs": []
    },
    {
      "cell_type": "code",
      "metadata": {
        "id": "kjTkvhlHQL1B",
        "colab_type": "code",
        "colab": {}
      },
      "source": [
        "uc_merced_pipeline = _create_pipeline(\n",
        "        pipeline_name=_pipeline_name,\n",
        "        pipeline_root=_pipeline_root,\n",
        "        data_root=examples_path,\n",
        "        transform_module_file=_transform_module_file,\n",
        "        trainer_module_file=_trainer_module_file,\n",
        "        serving_model_dir=_serving_model_dir,\n",
        "        metadata_path=_metadata_path)"
      ],
      "execution_count": 0,
      "outputs": []
    },
    {
      "cell_type": "code",
      "metadata": {
        "id": "qqB2lRBbrvOt",
        "colab_type": "code",
        "colab": {}
      },
      "source": [
        "BeamDagRunner().run(uc_merced_pipeline)"
      ],
      "execution_count": 0,
      "outputs": []
    },
    {
      "cell_type": "code",
      "metadata": {
        "id": "7UbiXUrar3mm",
        "colab_type": "code",
        "colab": {}
      },
      "source": [
        ""
      ],
      "execution_count": 0,
      "outputs": []
    }
  ]
}
