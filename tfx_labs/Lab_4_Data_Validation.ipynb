{
  "nbformat": 4,
  "nbformat_minor": 0,
  "metadata": {
    "colab": {
      "name": "TFX Lab 4 – TensorFlow Data Validation",
      "provenance": [],
      "private_outputs": true,
      "collapsed_sections": [
        "tmC2aJK7uM6r"
      ]
    },
    "kernelspec": {
      "name": "python3",
      "display_name": "Python 3"
    }
  },
  "cells": [
    {
      "cell_type": "markdown",
      "metadata": {
        "colab_type": "text",
        "id": "tmC2aJK7uM6r"
      },
      "source": [
        "###### Copyright &copy; 2019 The TensorFlow Authors."
      ]
    },
    {
      "cell_type": "code",
      "metadata": {
        "colab_type": "code",
        "id": "zxDbayU5uM6d",
        "colab": {}
      },
      "source": [
        "#@title Licensed under the Apache License, Version 2.0 (the \"License\");\n",
        "# you may not use this file except in compliance with the License.\n",
        "# You may obtain a copy of the License at\n",
        "#\n",
        "# https://www.apache.org/licenses/LICENSE-2.0\n",
        "#\n",
        "# Unless required by applicable law or agreed to in writing, software\n",
        "# distributed under the License is distributed on an \"AS IS\" BASIS,\n",
        "# WITHOUT WARRANTIES OR CONDITIONS OF ANY KIND, either express or implied.\n",
        "# See the License for the specific language governing permissions and\n",
        "# limitations under the License."
      ],
      "execution_count": 0,
      "outputs": []
    },
    {
      "cell_type": "markdown",
      "metadata": {
        "colab_type": "text",
        "id": "YuSYVbwEYNHw"
      },
      "source": [
        "# TensorFlow Data Validation\n",
        "***An Example of a Key TFX Library***"
      ]
    },
    {
      "cell_type": "markdown",
      "metadata": {
        "colab_type": "text",
        "id": "mPt5BHTwy_0F"
      },
      "source": [
        "This example colab notebook illustrates how TensorFlow Data Validation (TFDV) can be used to investigate and visualize your dataset.  That includes looking at descriptive statistics, inferring a schema, checking for and fixing anomalies, and checking for drift and skew in our dataset.  It's important to understand your dataset's characteristics, including how it might change over time in your production pipeline.  It's also important to look for anomalies in your data, and to compare your training, evaluation, and serving datasets to make sure that they're consistent."
      ]
    },
    {
      "cell_type": "markdown",
      "metadata": {
        "id": "0kQR5OPg0A-r",
        "colab_type": "text"
      },
      "source": [
        "## Setup\n",
        "First, we install the necessary packages, download data, import modules and set up paths.\n",
        "\n",
        "### Install TFX and TensorFlow\n",
        "\n",
        "> #### Note\n",
        "> Because of some of the updates to packages you must use the button at the bottom of the output of this cell to restart the runtime.  Following restart, you should rerun this cell."
      ]
    },
    {
      "cell_type": "code",
      "metadata": {
        "id": "brhXiQdwz8Up",
        "colab_type": "code",
        "colab": {}
      },
      "source": [
        "!pip install -q -U \\\n",
        "  tensorflow==2.0.0 \\\n",
        "  tensorflow_data_validation"
      ],
      "execution_count": 0,
      "outputs": []
    },
    {
      "cell_type": "markdown",
      "metadata": {
        "id": "jU8OY7BN0IuI",
        "colab_type": "text"
      },
      "source": [
        "### Import packages\n",
        "We import necessary packages, including standard TFX component classes."
      ]
    },
    {
      "cell_type": "code",
      "metadata": {
        "id": "o7SHCqGw0Lqu",
        "colab_type": "code",
        "colab": {}
      },
      "source": [
        "import os\n",
        "import tempfile\n",
        "import urllib\n",
        "\n",
        "import tensorflow as tf\n",
        "\n",
        "import tensorflow_data_validation as tfdv"
      ],
      "execution_count": 0,
      "outputs": []
    },
    {
      "cell_type": "markdown",
      "metadata": {
        "id": "37Dk9Kqc7OVG",
        "colab_type": "text"
      },
      "source": [
        "Check the versions"
      ]
    },
    {
      "cell_type": "code",
      "metadata": {
        "id": "4sN7aiNa7--y",
        "colab_type": "code",
        "colab": {}
      },
      "source": [
        "print('TensorFlow version: {}'.format(tf.__version__))\n",
        "print('TensorFlow Data Validation version: {}'.format(tfdv.__version__))"
      ],
      "execution_count": 0,
      "outputs": []
    },
    {
      "cell_type": "markdown",
      "metadata": {
        "id": "oBIyv2Tv0UvK",
        "colab_type": "text"
      },
      "source": [
        "### Download example data\n",
        "We download the sample dataset for use in our TFX pipeline.  We're working with a variant of the [Online News Popularity](https://archive.ics.uci.edu/ml/datasets/online+news+popularity) dataset, which summarizes a heterogeneous set of features about articles published by Mashable in a period of two years. The goal is to predict how popular the article will be on social networks. Specifically, in the original dataset the objective was to predict the number of times each article will be shared on social networks. In this variant, the goal is to predict the article's popularity percentile. For example, if the model predicts a score of 0.7, then it means it expects the article to be shared more than 70% of all articles."
      ]
    },
    {
      "cell_type": "code",
      "metadata": {
        "id": "oKm1kdjZ0UP8",
        "colab_type": "code",
        "colab": {}
      },
      "source": [
        "# Download the example data.\n",
        "DATA_PATH = 'https://raw.githubusercontent.com/ageron/open-datasets/master/' \\\n",
        "   'online_news_popularity_for_course/online_news_popularity_for_course.csv'\n",
        "_data_root = tempfile.mkdtemp(prefix='tfx-data')\n",
        "_data_filepath = os.path.join(_data_root, \"data.csv\")\n",
        "urllib.request.urlretrieve(DATA_PATH, _data_filepath)"
      ],
      "execution_count": 0,
      "outputs": []
    },
    {
      "cell_type": "markdown",
      "metadata": {
        "id": "jD4sQqpg4NDe",
        "colab_type": "text"
      },
      "source": [
        "### Split the dataset into train, eval and serving\n",
        "\n",
        "Let's take a peek at the data."
      ]
    },
    {
      "cell_type": "code",
      "metadata": {
        "id": "lexOWyQWgGh0",
        "colab_type": "code",
        "colab": {}
      },
      "source": [
        "!head {_data_filepath}\n"
      ],
      "execution_count": 0,
      "outputs": []
    },
    {
      "cell_type": "markdown",
      "metadata": {
        "id": "Z2gjzRIEvttw",
        "colab_type": "text"
      },
      "source": [
        "Now let's split the data into a training set, an eval set and a serving set:\n",
        "* The training set will be used to train ML models.\n",
        "* The eval set (also called the validation set or dev set) will be used to evaluate the models we train and choose the best one.\n",
        "* The serving set should look exactly like production data so we can test our production validation rules. For this, we remove the labels.\n",
        "\n",
        "We also modify one line in the eval set, replacing 'World' with 'Fun' in the `data_channel` feature, and we replace many floats with integers in the serving set: this will allow us to show how TFDV can detect anomalies."
      ]
    },
    {
      "cell_type": "code",
      "metadata": {
        "id": "X_HuKMl64Jkl",
        "colab_type": "code",
        "colab": {}
      },
      "source": [
        "_train_data_filepath = os.path.join(_data_root, \"train.csv\")\n",
        "_eval_data_filepath = os.path.join(_data_root, \"eval.csv\")\n",
        "_serving_data_filepath = os.path.join(_data_root, \"serving.csv\")\n",
        "\n",
        "with open(_data_filepath) as data_file, \\\n",
        "     open(_train_data_filepath, \"w\") as train_file, \\\n",
        "     open(_eval_data_filepath, \"w\") as eval_file, \\\n",
        "     open(_serving_data_filepath, \"w\") as serving_file:\n",
        "  lines = data_file.readlines()\n",
        "  train_file.write(lines[0])\n",
        "  eval_file.write(lines[0])\n",
        "  serving_file.write(lines[0].rsplit(\",\", 1)[0] + \"\\n\")\n",
        "  for line in lines[1:]:\n",
        "    if line < \"2014-11-01\":\n",
        "      train_file.write(line)\n",
        "    elif line < \"2014-12-01\":\n",
        "      line = line.replace(\"2014-11-01,0,World,awkward-teen-dance\",\n",
        "                          \"2014-11-01,0,Fun,awkward-teen-dance\")\n",
        "      eval_file.write(line)\n",
        "    else:\n",
        "      serving_file.write(line.rsplit(\",\", 1)[0].replace(\".0,\", \",\") + \"\\n\")"
      ],
      "execution_count": 0,
      "outputs": []
    },
    {
      "cell_type": "markdown",
      "metadata": {
        "id": "y5bjgJ_7uvtn",
        "colab_type": "text"
      },
      "source": [
        "Now let's take a peek at the training set, the eval set and the serving set:"
      ]
    },
    {
      "cell_type": "code",
      "metadata": {
        "id": "oY93rdx1dmix",
        "colab_type": "code",
        "colab": {}
      },
      "source": [
        "!head {_train_data_filepath}"
      ],
      "execution_count": 0,
      "outputs": []
    },
    {
      "cell_type": "code",
      "metadata": {
        "id": "uYl_lLWUgzsd",
        "colab_type": "code",
        "colab": {}
      },
      "source": [
        "!head {_eval_data_filepath}"
      ],
      "execution_count": 0,
      "outputs": []
    },
    {
      "cell_type": "code",
      "metadata": {
        "id": "XZsdrHDr-z05",
        "colab_type": "code",
        "colab": {}
      },
      "source": [
        "!head {_serving_data_filepath}"
      ],
      "execution_count": 0,
      "outputs": []
    },
    {
      "cell_type": "markdown",
      "metadata": {
        "colab_type": "text",
        "id": "H0sFmiTbT8-x"
      },
      "source": [
        "## Compute and visualize statistics\n",
        "\n",
        "First we'll use [`tfdv.generate_statistics_from_csv`](https://www.tensorflow.org/tfx/data_validation/api_docs/python/tfdv/generate_statistics_from_csv) to compute statistics for our training data. (ignore the snappy warnings)\n",
        "\n",
        "TFDV can compute descriptive [statistics](https://github.com/tensorflow/metadata/blob/v0.6.0/tensorflow_metadata/proto/v0/statistics.proto) that provide a quick overview of the data in terms of the features that are present and the shapes of their value distributions.\n",
        "\n",
        "Internally, TFDV uses [Apache Beam](https://beam.apache.org/)'s data-parallel processing framework to scale the computation of statistics over large datasets. For applications that wish to integrate deeper with TFDV (e.g., attach statistics generation at the end of a data-generation pipeline), the API also exposes a Beam PTransform for statistics generation."
      ]
    },
    {
      "cell_type": "code",
      "metadata": {
        "colab_type": "code",
        "id": "EE481oMbT-H0",
        "colab": {}
      },
      "source": [
        "train_stats = tfdv.generate_statistics_from_csv(\n",
        "    data_location=_train_data_filepath)"
      ],
      "execution_count": 0,
      "outputs": []
    },
    {
      "cell_type": "markdown",
      "metadata": {
        "colab_type": "text",
        "id": "JhXQSxJ2dB_6"
      },
      "source": [
        "Now let's use [`tfdv.visualize_statistics`](https://www.tensorflow.org/tfx/data_validation/api_docs/python/tfdv/visualize_statistics), which uses [Facets](https://pair-code.github.io/facets/) to create a succinct visualization of our training data:\n",
        "\n",
        "* Notice that numeric features and catagorical features are visualized separately, and that charts are displayed showing the distributions for each feature.\n",
        "* Notice that features with missing or zero values display a percentage in red as a visual indicator that there may be issues with examples in those features.  The percentage is the percentage of examples that have missing or zero values for that feature.\n",
        "* Notice that there are no examples with values for `pickup_census_tract`.  This is an opportunity for dimensionality reduction!\n",
        "* Try clicking \"expand\" above the charts to change the display\n",
        "* Try hovering over bars in the charts to display bucket ranges and counts\n",
        "* Try switching between the log and linear scales, and notice how the log scale reveals much more detail about the `payment_type` categorical feature\n",
        "* Try selecting \"quantiles\" from the \"Chart to show\" menu, and hover over the markers to show the quantile percentages"
      ]
    },
    {
      "cell_type": "code",
      "metadata": {
        "colab_type": "code",
        "id": "U3tUKgh7Up3x",
        "colab": {}
      },
      "source": [
        "tfdv.visualize_statistics(train_stats)"
      ],
      "execution_count": 0,
      "outputs": []
    },
    {
      "cell_type": "markdown",
      "metadata": {
        "colab_type": "text",
        "id": "KVR02-y4V0uM"
      },
      "source": [
        "## Infer a schema\n",
        "\n",
        "Now let's use [`tfdv.infer_schema`](https://www.tensorflow.org/tfx/data_validation/api_docs/python/tfdv/infer_schema) to create a schema for our data.  A schema defines constraints for the data that are relevant for ML. Example constraints include the data type of each feature, whether it's numerical or categorical, or the frequency of its presence in the data.  For categorical features the schema also defines the domain - the list of acceptable values.  Since writing a schema can be a tedious task, especially for datasets with lots of features, TFDV provides a method to generate an initial version of the schema based on the descriptive statistics.\n",
        "\n",
        "Getting the schema right is important because the rest of our production pipeline will be relying on the schema that TFDV generates to be correct.  The schema also provides documentation for the data, and so is useful when different developers work on the same data.  Let's use [`tfdv.display_schema`](https://www.tensorflow.org/tfx/data_validation/api_docs/python/tfdv/display_schema) to display the inferred schema so that we can review it."
      ]
    },
    {
      "cell_type": "code",
      "metadata": {
        "colab_type": "code",
        "id": "6LLkRJThVr9m",
        "colab": {}
      },
      "source": [
        "schema = tfdv.infer_schema(statistics=train_stats)\n",
        "tfdv.display_schema(schema=schema)"
      ],
      "execution_count": 0,
      "outputs": []
    },
    {
      "cell_type": "markdown",
      "metadata": {
        "colab_type": "text",
        "id": "ZVa3EXE8WEDE"
      },
      "source": [
        "## Check evaluation data for errors\n",
        "\n",
        "So far we've only been looking at the training data.  It's important that our evaluation data is consistent with our training data, including that it uses the same schema.  It's also important that the evaluation data includes examples of roughly the same ranges of values for our numerical features as our training data, so that our coverage of the loss surface during evaluation is roughly the same as during training.  The same is true for categorical features.  Otherwise, we may have training issues that are not identified during evaluation, because we didn't evaluate part of our loss surface.\n",
        "\n",
        "* Notice that each feature now includes statistics for both the training and evaluation datasets.\n",
        "* Notice that the charts now have both the training and evaluation datasets overlaid, making it easy to compare them.\n",
        "* Notice that the charts now include a percentages view, which can be combined with log or the default linear scales.\n",
        "* Notice that some features are significantly different for the training versus the evaluation datasets, in particular check the mean and median.  Will that cause problems?\n",
        "* Click expand on the Numeric Features chart, and select the log scale.  Review the `n_hrefs` feature, and notice the difference in the max.  Will evaluation miss parts of the loss surface?"
      ]
    },
    {
      "cell_type": "code",
      "metadata": {
        "colab_type": "code",
        "id": "j_P0RLYlV6XG",
        "colab": {}
      },
      "source": [
        "# Compute stats for evaluation data\n",
        "eval_stats = tfdv.generate_statistics_from_csv(\n",
        "    data_location=_eval_data_filepath)\n",
        "\n",
        "# Compare evaluation data with training data\n",
        "tfdv.visualize_statistics(lhs_statistics=eval_stats, rhs_statistics=train_stats,\n",
        "                          lhs_name='EVAL_DATASET', rhs_name='TRAIN_DATASET')"
      ],
      "execution_count": 0,
      "outputs": []
    },
    {
      "cell_type": "markdown",
      "metadata": {
        "colab_type": "text",
        "id": "ycRRa4leHp84"
      },
      "source": [
        "## Check for evaluation anomalies\n",
        "\n",
        "Does our evaluation dataset match the schema from our training dataset?  This is especially important for categorical features, where we want to identify the range of acceptable values.\n",
        "\n",
        "Key Point: What would happen if we tried to evaluate using data with categorical feature values that were not in our training dataset?  What about numeric features that are outside the ranges in our training dataset?"
      ]
    },
    {
      "cell_type": "code",
      "metadata": {
        "colab_type": "code",
        "id": "T7uGVeL2WOam",
        "colab": {}
      },
      "source": [
        "# Check eval data for errors by validating the eval data stats using the previously inferred schema.\n",
        "anomalies = tfdv.validate_statistics(statistics=eval_stats, schema=schema)\n",
        "tfdv.display_anomalies(anomalies)"
      ],
      "execution_count": 0,
      "outputs": []
    },
    {
      "cell_type": "markdown",
      "metadata": {
        "colab_type": "text",
        "id": "dzxx1gBpJIBa"
      },
      "source": [
        "## Fix evaluation anomalies in the schema\n",
        "\n",
        "Oops!  It looks like we have some new values for `data_channel` in our evaluation data, that we didn't have in our training data (what a surprise!). This should be considered an anomaly, but what we decide to do about it depends on our domain knowledge of the data. If an anomaly truly indicates a data error, then the underlying data should be fixed.  Otherwise, we can simply update the schema to include the values in the eval dataset.\n",
        "\n",
        "Key Point: How would our evaluation results be affected if we did not fix this problem?\n",
        "\n",
        "Unless we change our evaluation dataset we can't fix everything, but we can fix things in the schema that we're comfortable accepting.  That includes relaxing our view of what is and what is not an anomaly for particular features, as well as updating our schema to include missing values for categorical features.  TFDV has enabled us to discover what we need to fix.\n",
        "\n",
        "Let's make the fix now, and then review one more time."
      ]
    },
    {
      "cell_type": "code",
      "metadata": {
        "colab_type": "code",
        "id": "legN2nXLWZAc",
        "colab": {}
      },
      "source": [
        "# Relax the minimum fraction of values that must come\n",
        "# from the domain for feature data_channel.\n",
        "data_channel = tfdv.get_feature(schema, 'data_channel')\n",
        "data_channel.distribution_constraints.min_domain_mass = 1.0\n",
        "\n",
        "# Add new value to the domain of feature data_channel.\n",
        "data_channel_domain = tfdv.get_domain(schema, 'data_channel')\n",
        "data_channel_domain.value.append('Fun')\n",
        "\n",
        "# Validate eval stats after updating the schema \n",
        "updated_anomalies = tfdv.validate_statistics(eval_stats, schema)\n",
        "tfdv.display_anomalies(updated_anomalies)"
      ],
      "execution_count": 0,
      "outputs": []
    },
    {
      "cell_type": "markdown",
      "metadata": {
        "colab_type": "text",
        "id": "xNo72YP9LN98"
      },
      "source": [
        "Hey, look at that!  We verified that the training and evaluation data are now consistent!  Thanks TFDV ;)"
      ]
    },
    {
      "cell_type": "markdown",
      "metadata": {
        "colab_type": "text",
        "id": "KZ1P4ucHJj5o"
      },
      "source": [
        "## Schema Environments\n",
        "\n",
        "We also split off a 'serving' dataset for this example, so we should check that too.  By default all datasets in a pipeline should use the same schema, but there are often exceptions. For example, in supervised learning we need to include labels in our dataset, but when we serve the model for inference the labels will not be included. In some cases introducing slight schema variations is necessary.\n",
        "\n",
        "**Environments** can be used to express such requirements. In particular, features in schema can be associated with a set of environments using `default_environment`, `in_environment` and `not_in_environment`.\n",
        "\n",
        "For example, in this dataset the `n_shares_percentile` feature is included as the label for training, but it's missing in the serving data. Without environment specified, it will show up as an anomaly."
      ]
    },
    {
      "cell_type": "code",
      "metadata": {
        "colab_type": "code",
        "id": "wSZfbnifJuTA",
        "colab": {}
      },
      "source": [
        "serving_stats = tfdv.generate_statistics_from_csv(_serving_data_filepath)\n",
        "serving_anomalies = tfdv.validate_statistics(serving_stats, schema)\n",
        "\n",
        "tfdv.display_anomalies(serving_anomalies)"
      ],
      "execution_count": 0,
      "outputs": []
    },
    {
      "cell_type": "markdown",
      "metadata": {
        "colab_type": "text",
        "id": "Kl6inpwY1zLQ"
      },
      "source": [
        "TDFV noticed that the `n_shares_percentile` column is missing in the serving set (as expected), and it also noticed that some features which should be floats are actually integers.\n",
        "It's very easy to be unaware of problems like that until model performance suffers, sometimes catastrophically. It may or may not be a significant issue, but in any case this should be cause for further investigation.\n",
        "\n",
        "In this case, we can safely convert integers to floats, so we want to tell TFDV to use our schema to infer the type. Let's do that now."
      ]
    },
    {
      "cell_type": "code",
      "metadata": {
        "colab_type": "code",
        "id": "OhtYF8aAczpd",
        "colab": {}
      },
      "source": [
        "options = tfdv.StatsOptions(schema=schema, infer_type_from_schema=True)\n",
        "serving_stats = tfdv.generate_statistics_from_csv(_serving_data_filepath,\n",
        "                                                  stats_options=options)\n",
        "serving_anomalies = tfdv.validate_statistics(serving_stats, schema)\n",
        "\n",
        "tfdv.display_anomalies(serving_anomalies)"
      ],
      "execution_count": 0,
      "outputs": []
    },
    {
      "cell_type": "markdown",
      "metadata": {
        "colab_type": "text",
        "id": "bJjh5rigc5xy"
      },
      "source": [
        "Now we just have the `n_shares_percentile` feature (which is our label) showing up as an anomaly ('Column dropped').  Of course we don't expect to have labels in our serving data, so let's tell TFDV to ignore that."
      ]
    },
    {
      "cell_type": "code",
      "metadata": {
        "colab_type": "code",
        "id": "bnbnw8H6Lp2M",
        "colab": {}
      },
      "source": [
        "# All features are by default in both TRAINING and SERVING environments.\n",
        "schema.default_environment.append('TRAINING')\n",
        "schema.default_environment.append('SERVING')\n",
        "\n",
        "# Specify that 'n_shares_percentile' feature is not in SERVING environment.\n",
        "tfdv.get_feature(schema, 'n_shares_percentile').not_in_environment.append('SERVING')\n",
        "\n",
        "serving_anomalies_with_env = tfdv.validate_statistics(\n",
        "    serving_stats, schema, environment='SERVING')\n",
        "\n",
        "tfdv.display_anomalies(serving_anomalies_with_env)"
      ],
      "execution_count": 0,
      "outputs": []
    },
    {
      "cell_type": "markdown",
      "metadata": {
        "colab_type": "text",
        "id": "yteMr3AGMYEp"
      },
      "source": [
        "## Check for drift and skew\n",
        "\n",
        "In addition to checking whether a dataset conforms to the expectations set in the schema, TFDV also provides functionalities to detect drift and skew.  TFDV performs this check by comparing the statistics of the different datasets based on the drift/skew comparators specified in the schema.\n",
        "\n",
        "### Drift\n",
        "\n",
        "Drift detection is supported for categorical features and between consecutive spans of data (i.e., between span N and span N+1), such as between different days of training data.  We express drift in terms of [L-infinity distance](https://en.wikipedia.org/wiki/Chebyshev_distance), and you can set the threshold distance so that you receive warnings when the drift is higher than is acceptable.  Setting the correct distance is typically an iterative process requiring domain knowledge and experimentation.\n",
        "\n",
        "### Skew\n",
        "\n",
        "TFDV can detect three different kinds of skew in your data - schema skew, feature skew, and distribution skew.\n",
        "\n",
        "#### Schema Skew\n",
        "\n",
        "Schema skew occurs when the training and serving data do not conform to the same schema. Both training and serving data are expected to adhere to the same schema. Any expected deviations between the two (such as the label feature being only present in the training data but not in serving) should be specified through environments field in the schema.\n",
        "\n",
        "#### Feature Skew\n",
        "\n",
        "Feature skew occurs when the feature values that a model trains on are different from the feature values that it sees at serving time. For example, this can happen when:\n",
        "\n",
        "* A data source that provides some feature values is modified between training and serving time\n",
        "* There is different logic for generating features between training and serving. For example, if you apply some transformation only in one of the two code paths.\n",
        "\n",
        "#### Distribution Skew\n",
        "\n",
        "Distribution skew occurs when the distribution of the training dataset is significantly different from the distribution of the serving dataset. One of the key causes for distribution skew is using different code or different data sources to generate the training dataset. Another reason is a faulty sampling mechanism that chooses a non-representative subsample of the serving data to train on."
      ]
    },
    {
      "cell_type": "code",
      "metadata": {
        "colab_type": "code",
        "id": "wEUsZm_rOd1Q",
        "colab": {}
      },
      "source": [
        "# Add skew comparator for 'weekday' feature.\n",
        "weekday = tfdv.get_feature(schema, 'weekday')\n",
        "weekday.skew_comparator.infinity_norm.threshold = 0.01\n",
        "\n",
        "# Add drift comparator for 'weekday' feature.\n",
        "weekday.drift_comparator.infinity_norm.threshold = 0.001\n",
        "\n",
        "skew_anomalies = tfdv.validate_statistics(train_stats, schema,\n",
        "                                          previous_statistics=eval_stats,\n",
        "                                          serving_statistics=serving_stats)\n",
        "\n",
        "tfdv.display_anomalies(skew_anomalies)"
      ],
      "execution_count": 0,
      "outputs": []
    },
    {
      "cell_type": "markdown",
      "metadata": {
        "colab_type": "text",
        "id": "1GzbbsPgf0Bg"
      },
      "source": [
        "No drift and no skew!"
      ]
    },
    {
      "cell_type": "markdown",
      "metadata": {
        "colab_type": "text",
        "id": "wJ5saC9eWvHx"
      },
      "source": [
        "## Freeze the schema\n",
        "\n",
        "Now that the schema has been reviewed and curated, we will store it in a file to reflect its \"frozen\" state."
      ]
    },
    {
      "cell_type": "code",
      "metadata": {
        "id": "FSA-EaB343nh",
        "colab_type": "code",
        "colab": {}
      },
      "source": [
        "_output_dir = os.path.join(tempfile.mkdtemp(),\n",
        "                           'serving_model/online_news_simple')"
      ],
      "execution_count": 0,
      "outputs": []
    },
    {
      "cell_type": "code",
      "metadata": {
        "colab_type": "code",
        "id": "ydkL4DkIWn18",
        "colab": {}
      },
      "source": [
        "from google.protobuf import text_format\n",
        "\n",
        "tf.io.gfile.makedirs(_output_dir)\n",
        "schema_file = os.path.join(_output_dir, 'schema.pbtxt')\n",
        "tfdv.write_schema_text(schema, schema_file)\n",
        "\n",
        "!cat {schema_file}"
      ],
      "execution_count": 0,
      "outputs": []
    },
    {
      "cell_type": "markdown",
      "metadata": {
        "colab_type": "text",
        "id": "b8eC59yISdGB"
      },
      "source": [
        "## When to use TFDV\n",
        "\n",
        "It's easy to think of TFDV as only applying to the start of your training pipeline, as we did here, but in fact it has many uses.  Here's a few more:\n",
        "\n",
        "* Validating new data for inference to make sure that we haven't suddenly started receiving bad features\n",
        "* Validating new data for inference to make sure that our model has trained on that part of the decision surface\n",
        "* Validating our data after we've transformed it and done feature engineering (probably using [TensorFlow Transform](https://www.tensorflow.org/tfx/transform/)) to make sure we haven't done something wrong"
      ]
    }
  ]
}
